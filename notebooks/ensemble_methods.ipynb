{
 "cells": [
  {
   "cell_type": "code",
   "execution_count": 1,
   "outputs": [],
   "source": [
    "import pandas as pd\n",
    "from pandas import get_dummies\n",
    "from sklearn.impute import SimpleImputer\n",
    "from sklearn.tree import DecisionTreeClassifier\n",
    "from sklearn.preprocessing import StandardScaler\n",
    "from utilities.evaluation import ModelEvaluation\n",
    "from sklearn.model_selection import train_test_split\n",
    "from sklearn.linear_model import LogisticRegression\n",
    "from sklearn.ensemble import RandomForestClassifier, VotingClassifier"
   ],
   "metadata": {
    "collapsed": false,
    "pycharm": {
     "name": "#%%\n"
    }
   }
  },
  {
   "cell_type": "code",
   "execution_count": 2,
   "outputs": [
    {
     "data": {
      "text/plain": "   CustomerId   Surname  CreditScore Geography  Gender  Age  Tenure  \\\n0    15634602  Hargrave          619    France  Female   42       2   \n1    15647311      Hill          608     Spain  Female   41       1   \n2    15619304      Onio          502    France  Female   42       8   \n3    15701354      Boni          699    France  Female   39       1   \n4    15737888  Mitchell          850     Spain  Female   43       2   \n\n     Balance  NumOfProducts HasCrCard IsActiveMember  EstimatedSalary  Exited  \n0       0.00              1       Yes            Yes        101348.88       1  \n1   83807.86              1        No            Yes        112542.58       0  \n2  159660.80              3       Yes             No        113931.57       1  \n3       0.00              2        No             No         93826.63       0  \n4  125510.82              1       Yes            Yes         79084.10       0  ",
      "text/html": "<div>\n<style scoped>\n    .dataframe tbody tr th:only-of-type {\n        vertical-align: middle;\n    }\n\n    .dataframe tbody tr th {\n        vertical-align: top;\n    }\n\n    .dataframe thead th {\n        text-align: right;\n    }\n</style>\n<table border=\"1\" class=\"dataframe\">\n  <thead>\n    <tr style=\"text-align: right;\">\n      <th></th>\n      <th>CustomerId</th>\n      <th>Surname</th>\n      <th>CreditScore</th>\n      <th>Geography</th>\n      <th>Gender</th>\n      <th>Age</th>\n      <th>Tenure</th>\n      <th>Balance</th>\n      <th>NumOfProducts</th>\n      <th>HasCrCard</th>\n      <th>IsActiveMember</th>\n      <th>EstimatedSalary</th>\n      <th>Exited</th>\n    </tr>\n  </thead>\n  <tbody>\n    <tr>\n      <th>0</th>\n      <td>15634602</td>\n      <td>Hargrave</td>\n      <td>619</td>\n      <td>France</td>\n      <td>Female</td>\n      <td>42</td>\n      <td>2</td>\n      <td>0.00</td>\n      <td>1</td>\n      <td>Yes</td>\n      <td>Yes</td>\n      <td>101348.88</td>\n      <td>1</td>\n    </tr>\n    <tr>\n      <th>1</th>\n      <td>15647311</td>\n      <td>Hill</td>\n      <td>608</td>\n      <td>Spain</td>\n      <td>Female</td>\n      <td>41</td>\n      <td>1</td>\n      <td>83807.86</td>\n      <td>1</td>\n      <td>No</td>\n      <td>Yes</td>\n      <td>112542.58</td>\n      <td>0</td>\n    </tr>\n    <tr>\n      <th>2</th>\n      <td>15619304</td>\n      <td>Onio</td>\n      <td>502</td>\n      <td>France</td>\n      <td>Female</td>\n      <td>42</td>\n      <td>8</td>\n      <td>159660.80</td>\n      <td>3</td>\n      <td>Yes</td>\n      <td>No</td>\n      <td>113931.57</td>\n      <td>1</td>\n    </tr>\n    <tr>\n      <th>3</th>\n      <td>15701354</td>\n      <td>Boni</td>\n      <td>699</td>\n      <td>France</td>\n      <td>Female</td>\n      <td>39</td>\n      <td>1</td>\n      <td>0.00</td>\n      <td>2</td>\n      <td>No</td>\n      <td>No</td>\n      <td>93826.63</td>\n      <td>0</td>\n    </tr>\n    <tr>\n      <th>4</th>\n      <td>15737888</td>\n      <td>Mitchell</td>\n      <td>850</td>\n      <td>Spain</td>\n      <td>Female</td>\n      <td>43</td>\n      <td>2</td>\n      <td>125510.82</td>\n      <td>1</td>\n      <td>Yes</td>\n      <td>Yes</td>\n      <td>79084.10</td>\n      <td>0</td>\n    </tr>\n  </tbody>\n</table>\n</div>"
     },
     "execution_count": 2,
     "metadata": {},
     "output_type": "execute_result"
    }
   ],
   "source": [
    "churn = pd.read_csv(\"https://raw.githubusercontent.com/stivenlopezg/DS-ONLINE-64/main/data/churn-modeling.csv\", sep=',')\n",
    "churn.head()"
   ],
   "metadata": {
    "collapsed": false,
    "pycharm": {
     "name": "#%%\n"
    }
   }
  },
  {
   "cell_type": "code",
   "execution_count": 3,
   "outputs": [
    {
     "name": "stdout",
     "output_type": "stream",
     "text": [
      "<class 'pandas.core.frame.DataFrame'>\n",
      "RangeIndex: 10000 entries, 0 to 9999\n",
      "Data columns (total 13 columns):\n",
      " #   Column           Non-Null Count  Dtype  \n",
      "---  ------           --------------  -----  \n",
      " 0   CustomerId       10000 non-null  int64  \n",
      " 1   Surname          10000 non-null  object \n",
      " 2   CreditScore      10000 non-null  int64  \n",
      " 3   Geography        9980 non-null   object \n",
      " 4   Gender           10000 non-null  object \n",
      " 5   Age              10000 non-null  int64  \n",
      " 6   Tenure           10000 non-null  int64  \n",
      " 7   Balance          10000 non-null  float64\n",
      " 8   NumOfProducts    10000 non-null  int64  \n",
      " 9   HasCrCard        10000 non-null  object \n",
      " 10  IsActiveMember   10000 non-null  object \n",
      " 11  EstimatedSalary  9988 non-null   float64\n",
      " 12  Exited           10000 non-null  int64  \n",
      "dtypes: float64(2), int64(6), object(5)\n",
      "memory usage: 1015.8+ KB\n"
     ]
    }
   ],
   "source": [
    "churn.info()"
   ],
   "metadata": {
    "collapsed": false,
    "pycharm": {
     "name": "#%%\n"
    }
   }
  },
  {
   "cell_type": "code",
   "execution_count": 4,
   "outputs": [
    {
     "data": {
      "text/plain": "0    0.7963\n1    0.2037\nName: Exited, dtype: float64"
     },
     "execution_count": 4,
     "metadata": {},
     "output_type": "execute_result"
    }
   ],
   "source": [
    "churn['Exited'].value_counts(normalize=True)"
   ],
   "metadata": {
    "collapsed": false,
    "pycharm": {
     "name": "#%%\n"
    }
   }
  },
  {
   "cell_type": "code",
   "execution_count": 5,
   "outputs": [
    {
     "name": "stdout",
     "output_type": "stream",
     "text": [
      "El set de entrenamiento tiene 7000 observaciones, y 12 variables.\n",
      "El set de prueba tiene 3000 observaciones, y 12 variables.\n"
     ]
    }
   ],
   "source": [
    "exited = churn.pop('Exited')\n",
    "\n",
    "train_data, test_data, train_label, test_label = train_test_split(churn, exited,\n",
    "                                                                  test_size=0.3,\n",
    "                                                                  stratify=exited, random_state=42)\n",
    "\n",
    "print(f'El set de entrenamiento tiene {train_data.shape[0]} observaciones, y {train_data.shape[1]} variables.')\n",
    "print(f'El set de prueba tiene {test_data.shape[0]} observaciones, y {test_data.shape[1]} variables.')"
   ],
   "metadata": {
    "collapsed": false,
    "pycharm": {
     "name": "#%%\n"
    }
   }
  },
  {
   "cell_type": "code",
   "execution_count": 6,
   "outputs": [],
   "source": [
    "numerical_features = ['CreditScore', 'Age', 'Tenure',\n",
    "                      'Balance', 'NumOfProducts', 'EstimatedSalary']\n",
    "\n",
    "categorical_features = ['Gender', 'Geography', 'HasCrCard', 'IsActiveMember']\n",
    "\n",
    "drop_features = [\"CustomerId\", \"Surname\"]"
   ],
   "metadata": {
    "collapsed": false,
    "pycharm": {
     "name": "#%%\n"
    }
   }
  },
  {
   "cell_type": "code",
   "execution_count": 7,
   "outputs": [],
   "source": [
    "train_data = train_data.drop(labels=drop_features, axis=1)\n",
    "test_data = test_data.drop(labels=drop_features, axis=1)"
   ],
   "metadata": {
    "collapsed": false,
    "pycharm": {
     "name": "#%%\n"
    }
   }
  },
  {
   "cell_type": "markdown",
   "source": [
    "## Preprocesamiento\n",
    "\n",
    "### Numericas"
   ],
   "metadata": {
    "collapsed": false
   }
  },
  {
   "cell_type": "code",
   "execution_count": 8,
   "outputs": [],
   "source": [
    "# Imputacion de datos missing\n",
    "\n",
    "imputer_num = SimpleImputer(strategy='median')\n",
    "\n",
    "train_data.loc[:, numerical_features] = imputer_num.fit_transform(train_data[numerical_features])\n",
    "\n",
    "test_data.loc[:, numerical_features] = imputer_num.transform(test_data[numerical_features])"
   ],
   "metadata": {
    "collapsed": false,
    "pycharm": {
     "name": "#%%\n"
    }
   }
  },
  {
   "cell_type": "code",
   "execution_count": 9,
   "outputs": [],
   "source": [
    "# Escalar datos numericos\n",
    "\n",
    "scaler = StandardScaler()\n",
    "\n",
    "train_data.loc[:, numerical_features] = scaler.fit_transform(train_data[numerical_features])\n",
    "\n",
    "test_data.loc[:, numerical_features] = scaler.transform(test_data[numerical_features])"
   ],
   "metadata": {
    "collapsed": false,
    "pycharm": {
     "name": "#%%\n"
    }
   }
  },
  {
   "cell_type": "markdown",
   "source": [
    "### Categoricos"
   ],
   "metadata": {
    "collapsed": false
   }
  },
  {
   "cell_type": "code",
   "execution_count": 10,
   "outputs": [],
   "source": [
    "imputer_cat = SimpleImputer(strategy='most_frequent')\n",
    "\n",
    "train_data.loc[:, categorical_features] = imputer_cat.fit_transform(train_data[categorical_features])\n",
    "\n",
    "test_data.loc[:, categorical_features] = imputer_cat.transform(test_data[categorical_features])"
   ],
   "metadata": {
    "collapsed": false,
    "pycharm": {
     "name": "#%%\n"
    }
   }
  },
  {
   "cell_type": "code",
   "execution_count": 11,
   "outputs": [],
   "source": [
    "# OHE\n",
    "\n",
    "train_data = get_dummies(data=train_data, columns=categorical_features)\n",
    "\n",
    "test_data = get_dummies(data=test_data, columns=categorical_features)"
   ],
   "metadata": {
    "collapsed": false,
    "pycharm": {
     "name": "#%%\n"
    }
   }
  },
  {
   "cell_type": "code",
   "execution_count": null,
   "outputs": [],
   "source": [],
   "metadata": {
    "collapsed": false,
    "pycharm": {
     "name": "#%%\n"
    }
   }
  }
 ],
 "metadata": {
  "kernelspec": {
   "display_name": "Python 3",
   "language": "python",
   "name": "python3"
  },
  "language_info": {
   "codemirror_mode": {
    "name": "ipython",
    "version": 2
   },
   "file_extension": ".py",
   "mimetype": "text/x-python",
   "name": "python",
   "nbconvert_exporter": "python",
   "pygments_lexer": "ipython2",
   "version": "2.7.6"
  }
 },
 "nbformat": 4,
 "nbformat_minor": 0
}