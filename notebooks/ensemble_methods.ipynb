{
 "cells": [
  {
   "cell_type": "code",
   "execution_count": 12,
   "outputs": [],
   "source": [
    "import pandas as pd\n",
    "from pandas import get_dummies\n",
    "from sklearn.impute import SimpleImputer\n",
    "from sklearn.tree import DecisionTreeClassifier\n",
    "from sklearn.preprocessing import StandardScaler\n",
    "from utilities.evaluation import ModelEvaluation\n",
    "from sklearn.linear_model import LogisticRegression\n",
    "from sklearn.model_selection import train_test_split, cross_val_score, cross_val_predict\n",
    "from sklearn.ensemble import RandomForestClassifier, VotingClassifier"
   ],
   "metadata": {
    "collapsed": false,
    "pycharm": {
     "name": "#%%\n"
    }
   }
  },
  {
   "cell_type": "code",
   "execution_count": 2,
   "outputs": [
    {
     "data": {
      "text/plain": "   CustomerId   Surname  CreditScore Geography  Gender  Age  Tenure  \\\n0    15634602  Hargrave          619    France  Female   42       2   \n1    15647311      Hill          608     Spain  Female   41       1   \n2    15619304      Onio          502    France  Female   42       8   \n3    15701354      Boni          699    France  Female   39       1   \n4    15737888  Mitchell          850     Spain  Female   43       2   \n\n     Balance  NumOfProducts HasCrCard IsActiveMember  EstimatedSalary  Exited  \n0       0.00              1       Yes            Yes        101348.88       1  \n1   83807.86              1        No            Yes        112542.58       0  \n2  159660.80              3       Yes             No        113931.57       1  \n3       0.00              2        No             No         93826.63       0  \n4  125510.82              1       Yes            Yes         79084.10       0  ",
      "text/html": "<div>\n<style scoped>\n    .dataframe tbody tr th:only-of-type {\n        vertical-align: middle;\n    }\n\n    .dataframe tbody tr th {\n        vertical-align: top;\n    }\n\n    .dataframe thead th {\n        text-align: right;\n    }\n</style>\n<table border=\"1\" class=\"dataframe\">\n  <thead>\n    <tr style=\"text-align: right;\">\n      <th></th>\n      <th>CustomerId</th>\n      <th>Surname</th>\n      <th>CreditScore</th>\n      <th>Geography</th>\n      <th>Gender</th>\n      <th>Age</th>\n      <th>Tenure</th>\n      <th>Balance</th>\n      <th>NumOfProducts</th>\n      <th>HasCrCard</th>\n      <th>IsActiveMember</th>\n      <th>EstimatedSalary</th>\n      <th>Exited</th>\n    </tr>\n  </thead>\n  <tbody>\n    <tr>\n      <th>0</th>\n      <td>15634602</td>\n      <td>Hargrave</td>\n      <td>619</td>\n      <td>France</td>\n      <td>Female</td>\n      <td>42</td>\n      <td>2</td>\n      <td>0.00</td>\n      <td>1</td>\n      <td>Yes</td>\n      <td>Yes</td>\n      <td>101348.88</td>\n      <td>1</td>\n    </tr>\n    <tr>\n      <th>1</th>\n      <td>15647311</td>\n      <td>Hill</td>\n      <td>608</td>\n      <td>Spain</td>\n      <td>Female</td>\n      <td>41</td>\n      <td>1</td>\n      <td>83807.86</td>\n      <td>1</td>\n      <td>No</td>\n      <td>Yes</td>\n      <td>112542.58</td>\n      <td>0</td>\n    </tr>\n    <tr>\n      <th>2</th>\n      <td>15619304</td>\n      <td>Onio</td>\n      <td>502</td>\n      <td>France</td>\n      <td>Female</td>\n      <td>42</td>\n      <td>8</td>\n      <td>159660.80</td>\n      <td>3</td>\n      <td>Yes</td>\n      <td>No</td>\n      <td>113931.57</td>\n      <td>1</td>\n    </tr>\n    <tr>\n      <th>3</th>\n      <td>15701354</td>\n      <td>Boni</td>\n      <td>699</td>\n      <td>France</td>\n      <td>Female</td>\n      <td>39</td>\n      <td>1</td>\n      <td>0.00</td>\n      <td>2</td>\n      <td>No</td>\n      <td>No</td>\n      <td>93826.63</td>\n      <td>0</td>\n    </tr>\n    <tr>\n      <th>4</th>\n      <td>15737888</td>\n      <td>Mitchell</td>\n      <td>850</td>\n      <td>Spain</td>\n      <td>Female</td>\n      <td>43</td>\n      <td>2</td>\n      <td>125510.82</td>\n      <td>1</td>\n      <td>Yes</td>\n      <td>Yes</td>\n      <td>79084.10</td>\n      <td>0</td>\n    </tr>\n  </tbody>\n</table>\n</div>"
     },
     "execution_count": 2,
     "metadata": {},
     "output_type": "execute_result"
    }
   ],
   "source": [
    "churn = pd.read_csv(\"https://raw.githubusercontent.com/stivenlopezg/DS-ONLINE-64/main/data/churn-modeling.csv\", sep=',')\n",
    "churn.head()"
   ],
   "metadata": {
    "collapsed": false,
    "pycharm": {
     "name": "#%%\n"
    }
   }
  },
  {
   "cell_type": "code",
   "execution_count": 3,
   "outputs": [
    {
     "name": "stdout",
     "output_type": "stream",
     "text": [
      "<class 'pandas.core.frame.DataFrame'>\n",
      "RangeIndex: 10000 entries, 0 to 9999\n",
      "Data columns (total 13 columns):\n",
      " #   Column           Non-Null Count  Dtype  \n",
      "---  ------           --------------  -----  \n",
      " 0   CustomerId       10000 non-null  int64  \n",
      " 1   Surname          10000 non-null  object \n",
      " 2   CreditScore      10000 non-null  int64  \n",
      " 3   Geography        9980 non-null   object \n",
      " 4   Gender           10000 non-null  object \n",
      " 5   Age              10000 non-null  int64  \n",
      " 6   Tenure           10000 non-null  int64  \n",
      " 7   Balance          10000 non-null  float64\n",
      " 8   NumOfProducts    10000 non-null  int64  \n",
      " 9   HasCrCard        10000 non-null  object \n",
      " 10  IsActiveMember   10000 non-null  object \n",
      " 11  EstimatedSalary  9988 non-null   float64\n",
      " 12  Exited           10000 non-null  int64  \n",
      "dtypes: float64(2), int64(6), object(5)\n",
      "memory usage: 1015.8+ KB\n"
     ]
    }
   ],
   "source": [
    "churn.info()"
   ],
   "metadata": {
    "collapsed": false,
    "pycharm": {
     "name": "#%%\n"
    }
   }
  },
  {
   "cell_type": "code",
   "execution_count": 4,
   "outputs": [
    {
     "data": {
      "text/plain": "0    0.7963\n1    0.2037\nName: Exited, dtype: float64"
     },
     "execution_count": 4,
     "metadata": {},
     "output_type": "execute_result"
    }
   ],
   "source": [
    "churn['Exited'].value_counts(normalize=True)"
   ],
   "metadata": {
    "collapsed": false,
    "pycharm": {
     "name": "#%%\n"
    }
   }
  },
  {
   "cell_type": "code",
   "execution_count": 5,
   "outputs": [
    {
     "name": "stdout",
     "output_type": "stream",
     "text": [
      "El set de entrenamiento tiene 7000 observaciones, y 12 variables.\n",
      "El set de prueba tiene 3000 observaciones, y 12 variables.\n"
     ]
    }
   ],
   "source": [
    "exited = churn.pop('Exited')\n",
    "\n",
    "train_data, test_data, train_label, test_label = train_test_split(churn, exited,\n",
    "                                                                  test_size=0.3,\n",
    "                                                                  stratify=exited, random_state=42)\n",
    "\n",
    "print(f'El set de entrenamiento tiene {train_data.shape[0]} observaciones, y {train_data.shape[1]} variables.')\n",
    "print(f'El set de prueba tiene {test_data.shape[0]} observaciones, y {test_data.shape[1]} variables.')"
   ],
   "metadata": {
    "collapsed": false,
    "pycharm": {
     "name": "#%%\n"
    }
   }
  },
  {
   "cell_type": "code",
   "execution_count": 6,
   "outputs": [],
   "source": [
    "numerical_features = ['CreditScore', 'Age', 'Tenure',\n",
    "                      'Balance', 'NumOfProducts', 'EstimatedSalary']\n",
    "\n",
    "categorical_features = ['Gender', 'Geography', 'HasCrCard', 'IsActiveMember']\n",
    "\n",
    "drop_features = [\"CustomerId\", \"Surname\"]"
   ],
   "metadata": {
    "collapsed": false,
    "pycharm": {
     "name": "#%%\n"
    }
   }
  },
  {
   "cell_type": "code",
   "execution_count": 7,
   "outputs": [],
   "source": [
    "train_data = train_data.drop(labels=drop_features, axis=1)\n",
    "test_data = test_data.drop(labels=drop_features, axis=1)"
   ],
   "metadata": {
    "collapsed": false,
    "pycharm": {
     "name": "#%%\n"
    }
   }
  },
  {
   "cell_type": "markdown",
   "source": [
    "## Preprocesamiento\n",
    "\n",
    "### Numericas"
   ],
   "metadata": {
    "collapsed": false
   }
  },
  {
   "cell_type": "code",
   "execution_count": 8,
   "outputs": [],
   "source": [
    "# Imputacion de datos missing\n",
    "\n",
    "imputer_num = SimpleImputer(strategy='median')\n",
    "\n",
    "train_data.loc[:, numerical_features] = imputer_num.fit_transform(train_data[numerical_features])\n",
    "\n",
    "test_data.loc[:, numerical_features] = imputer_num.transform(test_data[numerical_features])"
   ],
   "metadata": {
    "collapsed": false,
    "pycharm": {
     "name": "#%%\n"
    }
   }
  },
  {
   "cell_type": "code",
   "execution_count": 9,
   "outputs": [],
   "source": [
    "# Escalar datos numericos\n",
    "\n",
    "scaler = StandardScaler()\n",
    "\n",
    "train_data.loc[:, numerical_features] = scaler.fit_transform(train_data[numerical_features])\n",
    "\n",
    "test_data.loc[:, numerical_features] = scaler.transform(test_data[numerical_features])"
   ],
   "metadata": {
    "collapsed": false,
    "pycharm": {
     "name": "#%%\n"
    }
   }
  },
  {
   "cell_type": "markdown",
   "source": [
    "### Categoricos"
   ],
   "metadata": {
    "collapsed": false
   }
  },
  {
   "cell_type": "code",
   "execution_count": 10,
   "outputs": [],
   "source": [
    "imputer_cat = SimpleImputer(strategy='most_frequent')\n",
    "\n",
    "train_data.loc[:, categorical_features] = imputer_cat.fit_transform(train_data[categorical_features])\n",
    "\n",
    "test_data.loc[:, categorical_features] = imputer_cat.transform(test_data[categorical_features])"
   ],
   "metadata": {
    "collapsed": false,
    "pycharm": {
     "name": "#%%\n"
    }
   }
  },
  {
   "cell_type": "code",
   "execution_count": 11,
   "outputs": [],
   "source": [
    "# OHE\n",
    "\n",
    "train_data = get_dummies(data=train_data, columns=categorical_features)\n",
    "\n",
    "test_data = get_dummies(data=test_data, columns=categorical_features)"
   ],
   "metadata": {
    "collapsed": false,
    "pycharm": {
     "name": "#%%\n"
    }
   }
  },
  {
   "cell_type": "markdown",
   "source": [
    "## Validación cruzada"
   ],
   "metadata": {
    "collapsed": false,
    "pycharm": {
     "name": "#%% md\n"
    }
   }
  },
  {
   "cell_type": "code",
   "execution_count": 13,
   "outputs": [],
   "source": [
    "lr = LogisticRegression(class_weight='balanced', random_state=42)\n",
    "\n",
    "dtree = DecisionTreeClassifier(class_weight=\"balanced\", random_state=42)\n",
    "\n",
    "rf = RandomForestClassifier(class_weight='balanced', n_estimators=100, random_state=42)"
   ],
   "metadata": {
    "collapsed": false,
    "pycharm": {
     "name": "#%%\n"
    }
   }
  },
  {
   "cell_type": "code",
   "execution_count": 14,
   "outputs": [],
   "source": [
    "roc = {}\n",
    "f1 = {}\n",
    "\n",
    "roc['lr'] = cross_val_score(estimator=lr,\n",
    "                            X=train_data, y=train_label, scoring=\"roc_auc\", cv=5, n_jobs=-1)\n",
    "\n",
    "roc['dtree'] = cross_val_score(estimator=dtree,\n",
    "                               X=train_data, y=train_label, scoring=\"roc_auc\", cv=5, n_jobs=-1)\n",
    "\n",
    "roc['rf'] = cross_val_score(estimator=rf,\n",
    "                            X=train_data, y=train_label, scoring=\"roc_auc\", cv=5, n_jobs=-1)\n",
    "\n",
    "# --------------------------------------------------------------------------------------------------------------------\n",
    "\n",
    "f1['lr'] = cross_val_score(estimator=lr,\n",
    "                            X=train_data, y=train_label, scoring=\"f1\", cv=5, n_jobs=-1)\n",
    "\n",
    "f1['dtree'] = cross_val_score(estimator=dtree,\n",
    "                            X=train_data, y=train_label, scoring=\"f1\", cv=5, n_jobs=-1)\n",
    "\n",
    "f1['rf'] = cross_val_score(estimator=rf,\n",
    "                            X=train_data, y=train_label, scoring=\"f1\", cv=5, n_jobs=-1)"
   ],
   "metadata": {
    "collapsed": false,
    "pycharm": {
     "name": "#%%\n"
    }
   }
  },
  {
   "cell_type": "code",
   "execution_count": 15,
   "outputs": [
    {
     "data": {
      "text/plain": "         lr     dtree        rf\n0  0.741701  0.656848  0.828419\n1  0.760334  0.689112  0.835530\n2  0.778724  0.690669  0.848549\n3  0.742412  0.692054  0.829014\n4  0.763754  0.672280  0.851102",
      "text/html": "<div>\n<style scoped>\n    .dataframe tbody tr th:only-of-type {\n        vertical-align: middle;\n    }\n\n    .dataframe tbody tr th {\n        vertical-align: top;\n    }\n\n    .dataframe thead th {\n        text-align: right;\n    }\n</style>\n<table border=\"1\" class=\"dataframe\">\n  <thead>\n    <tr style=\"text-align: right;\">\n      <th></th>\n      <th>lr</th>\n      <th>dtree</th>\n      <th>rf</th>\n    </tr>\n  </thead>\n  <tbody>\n    <tr>\n      <th>0</th>\n      <td>0.741701</td>\n      <td>0.656848</td>\n      <td>0.828419</td>\n    </tr>\n    <tr>\n      <th>1</th>\n      <td>0.760334</td>\n      <td>0.689112</td>\n      <td>0.835530</td>\n    </tr>\n    <tr>\n      <th>2</th>\n      <td>0.778724</td>\n      <td>0.690669</td>\n      <td>0.848549</td>\n    </tr>\n    <tr>\n      <th>3</th>\n      <td>0.742412</td>\n      <td>0.692054</td>\n      <td>0.829014</td>\n    </tr>\n    <tr>\n      <th>4</th>\n      <td>0.763754</td>\n      <td>0.672280</td>\n      <td>0.851102</td>\n    </tr>\n  </tbody>\n</table>\n</div>"
     },
     "execution_count": 15,
     "metadata": {},
     "output_type": "execute_result"
    }
   ],
   "source": [
    "roc_df = pd.DataFrame.from_dict(roc)\n",
    "roc_df"
   ],
   "metadata": {
    "collapsed": false,
    "pycharm": {
     "name": "#%%\n"
    }
   }
  },
  {
   "cell_type": "code",
   "execution_count": 16,
   "outputs": [
    {
     "data": {
      "text/plain": "         lr     dtree        rf\n0  0.466091  0.453901  0.527273\n1  0.482500  0.508167  0.517647\n2  0.497585  0.506066  0.547461\n3  0.478764  0.509666  0.523282\n4  0.482673  0.479574  0.524138",
      "text/html": "<div>\n<style scoped>\n    .dataframe tbody tr th:only-of-type {\n        vertical-align: middle;\n    }\n\n    .dataframe tbody tr th {\n        vertical-align: top;\n    }\n\n    .dataframe thead th {\n        text-align: right;\n    }\n</style>\n<table border=\"1\" class=\"dataframe\">\n  <thead>\n    <tr style=\"text-align: right;\">\n      <th></th>\n      <th>lr</th>\n      <th>dtree</th>\n      <th>rf</th>\n    </tr>\n  </thead>\n  <tbody>\n    <tr>\n      <th>0</th>\n      <td>0.466091</td>\n      <td>0.453901</td>\n      <td>0.527273</td>\n    </tr>\n    <tr>\n      <th>1</th>\n      <td>0.482500</td>\n      <td>0.508167</td>\n      <td>0.517647</td>\n    </tr>\n    <tr>\n      <th>2</th>\n      <td>0.497585</td>\n      <td>0.506066</td>\n      <td>0.547461</td>\n    </tr>\n    <tr>\n      <th>3</th>\n      <td>0.478764</td>\n      <td>0.509666</td>\n      <td>0.523282</td>\n    </tr>\n    <tr>\n      <th>4</th>\n      <td>0.482673</td>\n      <td>0.479574</td>\n      <td>0.524138</td>\n    </tr>\n  </tbody>\n</table>\n</div>"
     },
     "execution_count": 16,
     "metadata": {},
     "output_type": "execute_result"
    }
   ],
   "source": [
    "f1_df = pd.DataFrame.from_dict(f1)\n",
    "f1_df"
   ],
   "metadata": {
    "collapsed": false,
    "pycharm": {
     "name": "#%%\n"
    }
   }
  },
  {
   "cell_type": "code",
   "execution_count": 19,
   "outputs": [
    {
     "data": {
      "text/plain": "        roc_auc  f1_score  roc_auc_std  f1_score_std\nlr     0.757385  0.481523     0.015611      0.011247\ndtree  0.680193  0.491475     0.015310      0.024372\nrf     0.838523  0.527960     0.010726      0.011441",
      "text/html": "<div>\n<style scoped>\n    .dataframe tbody tr th:only-of-type {\n        vertical-align: middle;\n    }\n\n    .dataframe tbody tr th {\n        vertical-align: top;\n    }\n\n    .dataframe thead th {\n        text-align: right;\n    }\n</style>\n<table border=\"1\" class=\"dataframe\">\n  <thead>\n    <tr style=\"text-align: right;\">\n      <th></th>\n      <th>roc_auc</th>\n      <th>f1_score</th>\n      <th>roc_auc_std</th>\n      <th>f1_score_std</th>\n    </tr>\n  </thead>\n  <tbody>\n    <tr>\n      <th>lr</th>\n      <td>0.757385</td>\n      <td>0.481523</td>\n      <td>0.015611</td>\n      <td>0.011247</td>\n    </tr>\n    <tr>\n      <th>dtree</th>\n      <td>0.680193</td>\n      <td>0.491475</td>\n      <td>0.015310</td>\n      <td>0.024372</td>\n    </tr>\n    <tr>\n      <th>rf</th>\n      <td>0.838523</td>\n      <td>0.527960</td>\n      <td>0.010726</td>\n      <td>0.011441</td>\n    </tr>\n  </tbody>\n</table>\n</div>"
     },
     "execution_count": 19,
     "metadata": {},
     "output_type": "execute_result"
    }
   ],
   "source": [
    "valor_medio = pd.concat(objs=[pd.DataFrame(roc_df.mean(), columns=[\"roc_auc\"]),\n",
    "                              pd.DataFrame(f1_df.mean(), columns=[\"f1_score\"])], axis=1)\n",
    "\n",
    "std = pd.concat(objs=[pd.DataFrame(roc_df.std(), columns=[\"roc_auc_std\"]),\n",
    "                      pd.DataFrame(f1_df.std(), columns=[\"f1_score_std\"])], axis=1)\n",
    "\n",
    "resultados = pd.concat(objs=[valor_medio, std], axis=1)\n",
    "resultados"
   ],
   "metadata": {
    "collapsed": false,
    "pycharm": {
     "name": "#%%\n"
    }
   }
  },
  {
   "cell_type": "code",
   "source": [
    "lr.fit(train_data, train_label)\n",
    "\n",
    "dtree.fit(train_data, train_label)\n",
    "\n",
    "rf.fit(train_data, train_label)"
   ],
   "metadata": {
    "collapsed": false,
    "pycharm": {
     "name": "#%%\n"
    }
   },
   "execution_count": 20,
   "outputs": [
    {
     "data": {
      "text/plain": "RandomForestClassifier(class_weight='balanced', random_state=42)"
     },
     "execution_count": 20,
     "metadata": {},
     "output_type": "execute_result"
    }
   ]
  },
  {
   "cell_type": "code",
   "execution_count": 24,
   "outputs": [],
   "source": [
    "predictions = {}\n",
    "\n",
    "predictions[\"lr\"] = cross_val_predict(estimator=lr,\n",
    "                                      X=test_data, y=test_label, cv=5, n_jobs=-1, method=\"predict_proba\")[:, 1]\n",
    "\n",
    "predictions[\"dtree\"] = cross_val_predict(estimator=dtree,\n",
    "                                      X=test_data, y=test_label, cv=5, n_jobs=-1, method=\"predict_proba\")[:, 1]\n",
    "\n",
    "predictions[\"rf\"] = cross_val_predict(estimator=rf,\n",
    "                                      X=test_data, y=test_label, cv=5, n_jobs=-1, method=\"predict_proba\")[:, 1]"
   ],
   "metadata": {
    "collapsed": false,
    "pycharm": {
     "name": "#%%\n"
    }
   }
  },
  {
   "cell_type": "code",
   "execution_count": 25,
   "outputs": [
    {
     "data": {
      "text/plain": "            lr  dtree    rf\n0     0.135019    0.0  0.01\n1     0.355191    0.0  0.07\n2     0.606118    0.0  0.17\n3     0.402492    0.0  0.04\n4     0.647136    1.0  0.49\n...        ...    ...   ...\n2995  0.931596    0.0  0.13\n2996  0.396265    0.0  0.38\n2997  0.691426    1.0  0.40\n2998  0.567390    0.0  0.50\n2999  0.060921    1.0  0.05\n\n[3000 rows x 3 columns]",
      "text/html": "<div>\n<style scoped>\n    .dataframe tbody tr th:only-of-type {\n        vertical-align: middle;\n    }\n\n    .dataframe tbody tr th {\n        vertical-align: top;\n    }\n\n    .dataframe thead th {\n        text-align: right;\n    }\n</style>\n<table border=\"1\" class=\"dataframe\">\n  <thead>\n    <tr style=\"text-align: right;\">\n      <th></th>\n      <th>lr</th>\n      <th>dtree</th>\n      <th>rf</th>\n    </tr>\n  </thead>\n  <tbody>\n    <tr>\n      <th>0</th>\n      <td>0.135019</td>\n      <td>0.0</td>\n      <td>0.01</td>\n    </tr>\n    <tr>\n      <th>1</th>\n      <td>0.355191</td>\n      <td>0.0</td>\n      <td>0.07</td>\n    </tr>\n    <tr>\n      <th>2</th>\n      <td>0.606118</td>\n      <td>0.0</td>\n      <td>0.17</td>\n    </tr>\n    <tr>\n      <th>3</th>\n      <td>0.402492</td>\n      <td>0.0</td>\n      <td>0.04</td>\n    </tr>\n    <tr>\n      <th>4</th>\n      <td>0.647136</td>\n      <td>1.0</td>\n      <td>0.49</td>\n    </tr>\n    <tr>\n      <th>...</th>\n      <td>...</td>\n      <td>...</td>\n      <td>...</td>\n    </tr>\n    <tr>\n      <th>2995</th>\n      <td>0.931596</td>\n      <td>0.0</td>\n      <td>0.13</td>\n    </tr>\n    <tr>\n      <th>2996</th>\n      <td>0.396265</td>\n      <td>0.0</td>\n      <td>0.38</td>\n    </tr>\n    <tr>\n      <th>2997</th>\n      <td>0.691426</td>\n      <td>1.0</td>\n      <td>0.40</td>\n    </tr>\n    <tr>\n      <th>2998</th>\n      <td>0.567390</td>\n      <td>0.0</td>\n      <td>0.50</td>\n    </tr>\n    <tr>\n      <th>2999</th>\n      <td>0.060921</td>\n      <td>1.0</td>\n      <td>0.05</td>\n    </tr>\n  </tbody>\n</table>\n<p>3000 rows × 3 columns</p>\n</div>"
     },
     "execution_count": 25,
     "metadata": {},
     "output_type": "execute_result"
    }
   ],
   "source": [
    "predictions = pd.DataFrame.from_dict(predictions)\n",
    "predictions"
   ],
   "metadata": {
    "collapsed": false,
    "pycharm": {
     "name": "#%%\n"
    }
   }
  },
  {
   "cell_type": "code",
   "execution_count": 26,
   "outputs": [
    {
     "name": "stderr",
     "output_type": "stream",
     "text": [
      "c:\\users\\stiven.lopez\\pycharmprojects\\ds-online-64\\venv\\lib\\site-packages\\seaborn\\distributions.py:2557: FutureWarning: `distplot` is a deprecated function and will be removed in a future version. Please adapt your code to use either `displot` (a figure-level function with similar flexibility) or `kdeplot` (an axes-level function for kernel density plots).\n",
      "  warnings.warn(msg, FutureWarning)\n",
      "c:\\users\\stiven.lopez\\pycharmprojects\\ds-online-64\\venv\\lib\\site-packages\\seaborn\\distributions.py:2557: FutureWarning: `distplot` is a deprecated function and will be removed in a future version. Please adapt your code to use either `displot` (a figure-level function with similar flexibility) or `kdeplot` (an axes-level function for kernel density plots).\n",
      "  warnings.warn(msg, FutureWarning)\n",
      "c:\\users\\stiven.lopez\\pycharmprojects\\ds-online-64\\venv\\lib\\site-packages\\seaborn\\distributions.py:2557: FutureWarning: `distplot` is a deprecated function and will be removed in a future version. Please adapt your code to use either `displot` (a figure-level function with similar flexibility) or `kdeplot` (an axes-level function for kernel density plots).\n",
      "  warnings.warn(msg, FutureWarning)\n"
     ]
    },
    {
     "data": {
      "text/plain": "<Figure size 432x288 with 1 Axes>",
      "image/png": "[encoded data removed]"
     },
     "metadata": {
      "needs_background": "light"
     },
     "output_type": "display_data"
    },
    {
     "data": {
      "text/plain": "<Figure size 432x288 with 1 Axes>",
      "image/png": "[encoded data removed]"
     },
     "metadata": {
      "needs_background": "light"
     },
     "output_type": "display_data"
    },
    {
     "data": {
      "text/plain": "<Figure size 432x288 with 1 Axes>",
      "image/png": "[encoded data removed]"
     },
     "metadata": {
      "needs_background": "light"
     },
     "output_type": "display_data"
    }
   ],
   "source": [
    "import seaborn as sns\n",
    "import matplotlib.pyplot as plt\n",
    "\n",
    "for model in predictions.columns:\n",
    "    sns.distplot(predictions[model], hist=False)\n",
    "    plt.show()"
   ],
   "metadata": {
    "collapsed": false,
    "pycharm": {
     "name": "#%%\n"
    }
   }
  },
  {
   "cell_type": "code",
   "execution_count": 28,
   "outputs": [
    {
     "data": {
      "text/plain": "      CreditScore       Age    Tenure  Balance  NumOfProducts  \\\n9408    -0.109418  1.513266  1.725435  0.89982      -0.912483   \n\n      EstimatedSalary  Gender_Female  Gender_Male  Geography_France  \\\n9408        -1.714638              0            1                 1   \n\n      Geography_Germany  Geography_Spain  HasCrCard_No  HasCrCard_Yes  \\\n9408                  0                0             0              1   \n\n      IsActiveMember_No  IsActiveMember_Yes  \n9408                  1                   0  ",
      "text/html": "<div>\n<style scoped>\n    .dataframe tbody tr th:only-of-type {\n        vertical-align: middle;\n    }\n\n    .dataframe tbody tr th {\n        vertical-align: top;\n    }\n\n    .dataframe thead th {\n        text-align: right;\n    }\n</style>\n<table border=\"1\" class=\"dataframe\">\n  <thead>\n    <tr style=\"text-align: right;\">\n      <th></th>\n      <th>CreditScore</th>\n      <th>Age</th>\n      <th>Tenure</th>\n      <th>Balance</th>\n      <th>NumOfProducts</th>\n      <th>EstimatedSalary</th>\n      <th>Gender_Female</th>\n      <th>Gender_Male</th>\n      <th>Geography_France</th>\n      <th>Geography_Germany</th>\n      <th>Geography_Spain</th>\n      <th>HasCrCard_No</th>\n      <th>HasCrCard_Yes</th>\n      <th>IsActiveMember_No</th>\n      <th>IsActiveMember_Yes</th>\n    </tr>\n  </thead>\n  <tbody>\n    <tr>\n      <th>9408</th>\n      <td>-0.109418</td>\n      <td>1.513266</td>\n      <td>1.725435</td>\n      <td>0.89982</td>\n      <td>-0.912483</td>\n      <td>-1.714638</td>\n      <td>0</td>\n      <td>1</td>\n      <td>1</td>\n      <td>0</td>\n      <td>0</td>\n      <td>0</td>\n      <td>1</td>\n      <td>1</td>\n      <td>0</td>\n    </tr>\n  </tbody>\n</table>\n</div>"
     },
     "execution_count": 28,
     "metadata": {},
     "output_type": "execute_result"
    }
   ],
   "source": [
    "train_data.sample()"
   ],
   "metadata": {
    "collapsed": false,
    "pycharm": {
     "name": "#%%\n"
    }
   }
  },
  {
   "cell_type": "code",
   "execution_count": 30,
   "outputs": [
    {
     "name": "stdout",
     "output_type": "stream",
     "text": [
      "Para la variable Age, la importancia es: 0.23582294821566965\n",
      "Para la variable Balance, la importancia es: 0.15904104908692374\n",
      "Para la variable CreditScore, la importancia es: 0.14410233459653915\n",
      "Para la variable EstimatedSalary, la importancia es: 0.15149428668956472\n",
      "Para la variable Gender_Female, la importancia es: 0.01495293351821285\n",
      "Para la variable Gender_Male, la importancia es: 0.007769710671882109\n",
      "Para la variable Geography_France, la importancia es: 0.007945380679646922\n",
      "Para la variable Geography_Germany, la importancia es: 0.022065544281946403\n",
      "Para la variable Geography_Spain, la importancia es: 0.011294372175568786\n",
      "Para la variable HasCrCard_No, la importancia es: 0.010372287467657094\n",
      "Para la variable HasCrCard_Yes, la importancia es: 0.0053476378213640685\n",
      "Para la variable IsActiveMember_No, la importancia es: 0.007384206421939778\n",
      "Para la variable IsActiveMember_Yes, la importancia es: 0.031355545759762224\n",
      "Para la variable NumOfProducts, la importancia es: 0.12581446389607903\n",
      "Para la variable Tenure, la importancia es: 0.06523729871724343\n"
     ]
    }
   ],
   "source": [
    "for column, importance in sorted(zip(train_data.columns, dtree.feature_importances_)):\n",
    "    print(f\"Para la variable {column}, la importancia es: {importance}\")"
   ],
   "metadata": {
    "collapsed": false,
    "pycharm": {
     "name": "#%%\n"
    }
   }
  },
  {
   "cell_type": "code",
   "execution_count": null,
   "outputs": [],
   "source": [],
   "metadata": {
    "collapsed": false,
    "pycharm": {
     "name": "#%%\n"
    }
   }
  }
 ],
 "metadata": {
  "kernelspec": {
   "display_name": "Python 3",
   "language": "python",
   "name": "python3"
  },
  "language_info": {
   "codemirror_mode": {
    "name": "ipython",
    "version": 2
   },
   "file_extension": ".py",
   "mimetype": "text/x-python",
   "name": "python",
   "nbconvert_exporter": "python",
   "pygments_lexer": "ipython2",
   "version": "2.7.6"
  }
 },
 "nbformat": 4,
 "nbformat_minor": 0
}