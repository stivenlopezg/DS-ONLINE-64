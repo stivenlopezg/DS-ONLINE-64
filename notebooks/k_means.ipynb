{
 "cells": [
  {
   "cell_type": "markdown",
   "source": [
    "## Tipos de aprendizaje\n",
    "\n",
    "* Aprendizaje supervisado\n",
    "    * Clasificación.\n",
    "        * Clasificación binaria.\n",
    "        * Clasificación multiclase.\n",
    "    * Regresión.\n",
    "\n",
    "* Aprendizaje no supervisado.\n",
    "    * Clustering.\n",
    "    * Reducción de la dimensionalidad.\n",
    "    * Detección de anomalías.\n",
    "\n",
    "* Aprendizaje semi-supervisado\n",
    "* Aprendizaje por refuerzo\n",
    "\n",
    "### Aprendizaje no supervisado\n",
    "\n",
    "Aunque la mayoría de las aplicaciones del Machine Learning se basan hoy en día en el aprendizaje supervisado (y, como resultado, es ahí donde se realizan las mayores inversiones), la inmensa mayoría de los datos disponibles no están etiquetados: tenemos las características de entrada ***X***, pero no tenemos las etiquetas ***y***.\n",
    "\n",
    "#### Clustering\n",
    "\n",
    "El clustering busca particionar el set de datos en grupos, los cuales son llamados *clusters*. El objetivo consiste en separar los datos de tal forma que los puntos dentro de un clúster sean muy similares y se diferencien con puntos de otros clusters.\n",
    "\n",
    "##### K-Means\n",
    "\n",
    "El algoritmo K-Means trata de encontrar los centros de los clusters que sean representativos de ciertas regiones de los datos. El algoritmo alterna tres pasos en su ejecución:\n",
    "\n",
    "1. Se determina un número de clusters.\n",
    "2. Busca alrededor de cada centro los puntos más cercanos.\n",
    "3. Recalcula el centro como el promedio de los puntos dentro de ese cluster.\n",
    "\n",
    "![SegmentLocal](https://media.giphy.com/media/12vVAGkaqHUqCQ/giphy.gif \"segment\")"
   ],
   "metadata": {
    "collapsed": false
   }
  },
  {
   "cell_type": "code",
   "execution_count": null,
   "outputs": [],
   "source": [
    "import mglearn\n",
    "import warnings\n",
    "import numpy as np\n",
    "import pandas as pd\n",
    "import matplotlib.pyplot as plt\n",
    "from sklearn.cluster import KMeans\n",
    "from sklearn.impute import SimpleImputer\n",
    "from sklearn.metrics import silhouette_score\n",
    "from sklearn.preprocessing import StandardScaler"
   ],
   "metadata": {
    "collapsed": false,
    "pycharm": {
     "name": "#%%\n"
    }
   }
  },
  {
   "cell_type": "code",
   "execution_count": null,
   "outputs": [],
   "source": [
    "mglearn.plots.plot_kmeans_algorithm()"
   ],
   "metadata": {
    "collapsed": false,
    "pycharm": {
     "name": "#%%\n"
    }
   }
  },
  {
   "cell_type": "code",
   "execution_count": null,
   "outputs": [],
   "source": [
    "auto = pd.read_csv('https://raw.githubusercontent.com/stivenlopezg/Diplomado-Python/master/data/mpg.csv')\n",
    "auto.sample(4)\n"
   ],
   "metadata": {
    "collapsed": false,
    "pycharm": {
     "name": "#%%\n"
    }
   }
  }
 ],
 "metadata": {
  "kernelspec": {
   "display_name": "Python 3",
   "language": "python",
   "name": "python3"
  },
  "language_info": {
   "codemirror_mode": {
    "name": "ipython",
    "version": 2
   },
   "file_extension": ".py",
   "mimetype": "text/x-python",
   "name": "python",
   "nbconvert_exporter": "python",
   "pygments_lexer": "ipython2",
   "version": "2.7.6"
  }
 },
 "nbformat": 4,
 "nbformat_minor": 0
}