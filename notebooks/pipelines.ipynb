{
 "cells": [
  {
   "cell_type": "code",
   "execution_count": 1,
   "metadata": {
    "collapsed": true
   },
   "outputs": [],
   "source": [
    "import warnings\n",
    "import numpy as np\n",
    "import pandas as pd\n",
    "from sklearn.linear_model import LinearRegression\n",
    "from sklearn.pipeline import Pipeline, make_pipeline\n",
    "from sklearn.ensemble import GradientBoostingRegressor\n",
    "from sklearn.metrics import mean_squared_error, mean_absolute_error\n",
    "from sklearn.compose import ColumnTransformer, make_column_transformer\n",
    "from sklearn.model_selection import train_test_split, cross_val_score, GridSearchCV\n",
    "\n",
    "warnings.filterwarnings(action=\"ignore\")\n",
    "pd.set_option(\"float_format\", '{:.2f}'.format)"
   ]
  },
  {
   "cell_type": "code",
   "execution_count": 2,
   "outputs": [
    {
     "data": {
      "text/plain": "   longitude  latitude  housing_median_age  total_rooms  total_bedrooms  \\\n0    -122.23     37.88               41.00       880.00          129.00   \n1    -122.22     37.86               21.00      7099.00         1106.00   \n2    -122.24     37.85               52.00      1467.00          190.00   \n3    -122.25     37.85               52.00      1274.00          235.00   \n4    -122.25     37.85               52.00      1627.00          280.00   \n\n   population  households  median_income  median_house_value ocean_proximity  \n0      322.00      126.00           8.33           452600.00        NEAR BAY  \n1     2401.00     1138.00           8.30           358500.00        NEAR BAY  \n2      496.00      177.00           7.26           352100.00        NEAR BAY  \n3      558.00      219.00           5.64           341300.00        NEAR BAY  \n4      565.00      259.00           3.85           342200.00        NEAR BAY  ",
      "text/html": "<div>\n<style scoped>\n    .dataframe tbody tr th:only-of-type {\n        vertical-align: middle;\n    }\n\n    .dataframe tbody tr th {\n        vertical-align: top;\n    }\n\n    .dataframe thead th {\n        text-align: right;\n    }\n</style>\n<table border=\"1\" class=\"dataframe\">\n  <thead>\n    <tr style=\"text-align: right;\">\n      <th></th>\n      <th>longitude</th>\n      <th>latitude</th>\n      <th>housing_median_age</th>\n      <th>total_rooms</th>\n      <th>total_bedrooms</th>\n      <th>population</th>\n      <th>households</th>\n      <th>median_income</th>\n      <th>median_house_value</th>\n      <th>ocean_proximity</th>\n    </tr>\n  </thead>\n  <tbody>\n    <tr>\n      <th>0</th>\n      <td>-122.23</td>\n      <td>37.88</td>\n      <td>41.00</td>\n      <td>880.00</td>\n      <td>129.00</td>\n      <td>322.00</td>\n      <td>126.00</td>\n      <td>8.33</td>\n      <td>452600.00</td>\n      <td>NEAR BAY</td>\n    </tr>\n    <tr>\n      <th>1</th>\n      <td>-122.22</td>\n      <td>37.86</td>\n      <td>21.00</td>\n      <td>7099.00</td>\n      <td>1106.00</td>\n      <td>2401.00</td>\n      <td>1138.00</td>\n      <td>8.30</td>\n      <td>358500.00</td>\n      <td>NEAR BAY</td>\n    </tr>\n    <tr>\n      <th>2</th>\n      <td>-122.24</td>\n      <td>37.85</td>\n      <td>52.00</td>\n      <td>1467.00</td>\n      <td>190.00</td>\n      <td>496.00</td>\n      <td>177.00</td>\n      <td>7.26</td>\n      <td>352100.00</td>\n      <td>NEAR BAY</td>\n    </tr>\n    <tr>\n      <th>3</th>\n      <td>-122.25</td>\n      <td>37.85</td>\n      <td>52.00</td>\n      <td>1274.00</td>\n      <td>235.00</td>\n      <td>558.00</td>\n      <td>219.00</td>\n      <td>5.64</td>\n      <td>341300.00</td>\n      <td>NEAR BAY</td>\n    </tr>\n    <tr>\n      <th>4</th>\n      <td>-122.25</td>\n      <td>37.85</td>\n      <td>52.00</td>\n      <td>1627.00</td>\n      <td>280.00</td>\n      <td>565.00</td>\n      <td>259.00</td>\n      <td>3.85</td>\n      <td>342200.00</td>\n      <td>NEAR BAY</td>\n    </tr>\n  </tbody>\n</table>\n</div>"
     },
     "execution_count": 2,
     "metadata": {},
     "output_type": "execute_result"
    }
   ],
   "source": [
    "housing = pd.read_csv(\"https://raw.githubusercontent.com/stivenlopezg/DS-ONLINE-64/main/data/housing.csv\")\n",
    "housing.head()"
   ],
   "metadata": {
    "collapsed": false,
    "pycharm": {
     "name": "#%%\n"
    }
   }
  },
  {
   "cell_type": "code",
   "execution_count": 3,
   "outputs": [],
   "source": [
    "price = housing.pop(\"median_house_value\")\n",
    "\n",
    "X_train, X_test, y_train, y_test = train_test_split(housing, price,\n",
    "                                                    test_size=0.3, random_state=42)\n",
    "\n",
    "X_test, X_valid, y_test, y_valid = train_test_split(X_test, y_test,\n",
    "                                                    test_size=0.5, random_state=42)"
   ],
   "metadata": {
    "collapsed": false,
    "pycharm": {
     "name": "#%%\n"
    }
   }
  },
  {
   "cell_type": "code",
   "execution_count": 4,
   "outputs": [],
   "source": [
    "X_valid.to_csv(\"../data/housing_new.csv\", index=False, header=True)\n",
    "y_valid.to_csv(\"../data/housing_labels.csv\", index=False, header=True)"
   ],
   "metadata": {
    "collapsed": false,
    "pycharm": {
     "name": "#%%\n"
    }
   }
  },
  {
   "cell_type": "markdown",
   "source": [
    "## Preprocesamiento\n",
    "\n",
    "* Preprocesamiento:\n",
    "    * numéricas:\n",
    "        * Tratar datos missing.\n",
    "        * Tratar datos atípicos.\n",
    "        * Escalar los datos.\n",
    "        * Crear variables a partir de las originales (operaciones como suma, resta, multipliación, etc, y binning o discretización).\n",
    "    * categóricas:\n",
    "        * Tratar datos missing.\n",
    "        * Codificar las variables.\n"
   ],
   "metadata": {
    "collapsed": false,
    "pycharm": {
     "name": "#%% md\n"
    }
   }
  },
  {
   "cell_type": "code",
   "execution_count": 7,
   "outputs": [],
   "source": [
    "numerical_features = housing.select_dtypes(include=\"number\").columns.tolist()\n",
    "categorical_features = [col for col in housing.columns if col not in numerical_features]"
   ],
   "metadata": {
    "collapsed": false,
    "pycharm": {
     "name": "#%%\n"
    }
   }
  },
  {
   "cell_type": "code",
   "execution_count": 9,
   "outputs": [],
   "source": [
    "for col in [\"latitude\", \"longitude\"]:\n",
    "    numerical_features.remove(col)"
   ],
   "metadata": {
    "collapsed": false,
    "pycharm": {
     "name": "#%%\n"
    }
   }
  },
  {
   "cell_type": "code",
   "execution_count": 22,
   "outputs": [],
   "source": [
    "from sklearn.impute import SimpleImputer\n",
    "from sklearn.preprocessing import RobustScaler, OneHotEncoder\n",
    "\n",
    "# numeric_preprocessing = Pipeline(steps=[\n",
    "#     (\"imputer_num\", SimpleImputer(strategy=\"median\")),\n",
    "#     (\"scaler\", RobustScaler())])\n",
    "\n",
    "numeric_preprocessing = make_pipeline(SimpleImputer(strategy=\"median\"), RobustScaler())"
   ],
   "metadata": {
    "collapsed": false,
    "pycharm": {
     "name": "#%%\n"
    }
   }
  },
  {
   "cell_type": "code",
   "execution_count": 18,
   "outputs": [
    {
     "data": {
      "text/plain": "Pipeline(steps=[('simpleimputer', SimpleImputer(strategy='median')),\n                ('robustscaler', RobustScaler())])"
     },
     "execution_count": 18,
     "metadata": {},
     "output_type": "execute_result"
    }
   ],
   "source": [
    "# numeric_preprocessing.fit(X_train[numerical_features])"
   ],
   "metadata": {
    "collapsed": false,
    "pycharm": {
     "name": "#%%\n"
    }
   }
  },
  {
   "cell_type": "code",
   "execution_count": 21,
   "outputs": [
    {
     "data": {
      "text/plain": "array([  29.    , 2131.    ,  437.    , 1168.    ,  411.    ,    3.5391])"
     },
     "execution_count": 21,
     "metadata": {},
     "output_type": "execute_result"
    }
   ],
   "source": [
    "# numeric_preprocessing[\"simpleimputer\"].statistics_"
   ],
   "metadata": {
    "collapsed": false,
    "pycharm": {
     "name": "#%%\n"
    }
   }
  },
  {
   "cell_type": "code",
   "execution_count": 23,
   "outputs": [],
   "source": [
    "\n",
    "categoric_preprocessing = make_pipeline(SimpleImputer(strategy=\"most_frequent\"),\n",
    "                                        OneHotEncoder(sparse=False, handle_unknown=\"ignore\"))"
   ],
   "metadata": {
    "collapsed": false,
    "pycharm": {
     "name": "#%%\n"
    }
   }
  },
  {
   "cell_type": "code",
   "execution_count": 35,
   "outputs": [],
   "source": [
    "# X_train.head(10)"
   ],
   "metadata": {
    "collapsed": false,
    "pycharm": {
     "name": "#%%\n"
    }
   }
  },
  {
   "cell_type": "code",
   "execution_count": 34,
   "outputs": [],
   "source": [
    "# categoric_preprocessing.fit_transform(X_train[categorical_features])[:10]"
   ],
   "metadata": {
    "collapsed": false,
    "pycharm": {
     "name": "#%%\n"
    }
   }
  },
  {
   "cell_type": "code",
   "execution_count": 41,
   "outputs": [],
   "source": [
    "# \"passthrough\"\n",
    "\n",
    "# preprocessing = ColumnTransformer(transformers=[\n",
    "#     (\"num_preprocessing\", numeric_preprocessing, numerical_features),\n",
    "#     (\"cat_preprocessing\", categoric_preprocessing, categorical_features)\n",
    "# ], remainder=\"drop\")\n",
    "\n",
    "preprocessing = make_column_transformer((numeric_preprocessing, numerical_features),\n",
    "                                        (categoric_preprocessing, categorical_features), remainder=\"drop\")"
   ],
   "metadata": {
    "collapsed": false,
    "pycharm": {
     "name": "#%%\n"
    }
   }
  },
  {
   "cell_type": "code",
   "execution_count": 43,
   "outputs": [],
   "source": [
    "linear_reg = make_pipeline(preprocessing, LinearRegression())\n",
    "\n",
    "gbm = make_pipeline(preprocessing, GradientBoostingRegressor())"
   ],
   "metadata": {
    "collapsed": false,
    "pycharm": {
     "name": "#%%\n"
    }
   }
  },
  {
   "cell_type": "code",
   "execution_count": 37,
   "outputs": [],
   "source": [
    "## Validacion cruzada\n",
    "\n",
    "rmse = {}\n",
    "\n",
    "rmse[\"linear_reg\"] = np.sqrt(-cross_val_score(estimator=linear_reg, X=X_train, y=y_train,\n",
    "                                      scoring=\"neg_mean_squared_error\", cv=5))\n",
    "rmse[\"gradient_boosting\"] = np.sqrt(-cross_val_score(estimator=gbm, X=X_train, y=y_train,\n",
    "                                                     scoring=\"neg_mean_squared_error\", cv=5))"
   ],
   "metadata": {
    "collapsed": false,
    "pycharm": {
     "name": "#%%\n"
    }
   }
  },
  {
   "cell_type": "code",
   "execution_count": 38,
   "outputs": [
    {
     "data": {
      "text/plain": "   linear_reg  gradient_boosting\n0    71147.54           63424.07\n1    68925.94           62590.47\n2    68672.22           62270.06\n3    69153.35           62091.05\n4    72714.76           64695.90",
      "text/html": "<div>\n<style scoped>\n    .dataframe tbody tr th:only-of-type {\n        vertical-align: middle;\n    }\n\n    .dataframe tbody tr th {\n        vertical-align: top;\n    }\n\n    .dataframe thead th {\n        text-align: right;\n    }\n</style>\n<table border=\"1\" class=\"dataframe\">\n  <thead>\n    <tr style=\"text-align: right;\">\n      <th></th>\n      <th>linear_reg</th>\n      <th>gradient_boosting</th>\n    </tr>\n  </thead>\n  <tbody>\n    <tr>\n      <th>0</th>\n      <td>71147.54</td>\n      <td>63424.07</td>\n    </tr>\n    <tr>\n      <th>1</th>\n      <td>68925.94</td>\n      <td>62590.47</td>\n    </tr>\n    <tr>\n      <th>2</th>\n      <td>68672.22</td>\n      <td>62270.06</td>\n    </tr>\n    <tr>\n      <th>3</th>\n      <td>69153.35</td>\n      <td>62091.05</td>\n    </tr>\n    <tr>\n      <th>4</th>\n      <td>72714.76</td>\n      <td>64695.90</td>\n    </tr>\n  </tbody>\n</table>\n</div>"
     },
     "execution_count": 38,
     "metadata": {},
     "output_type": "execute_result"
    }
   ],
   "source": [
    "rmse = pd.DataFrame.from_dict(rmse)\n",
    "rmse"
   ],
   "metadata": {
    "collapsed": false,
    "pycharm": {
     "name": "#%%\n"
    }
   }
  },
  {
   "cell_type": "markdown",
   "source": [
    "## Optimización de hiperparametros"
   ],
   "metadata": {
    "collapsed": false,
    "pycharm": {
     "name": "#%% md\n"
    }
   }
  },
  {
   "cell_type": "code",
   "execution_count": 44,
   "outputs": [],
   "source": [
    "params = {\n",
    "    \"gradientboostingregressor__loss\": ['ls', 'lad', 'huber'],\n",
    "    \"gradientboostingregressor__n_estimators\": [50, 100, 150],\n",
    "    'gradientboostingregressor__criterion': [\"friedman_mse\", \"mse\"]\n",
    "}\n",
    "\n",
    "gbm_cv = GridSearchCV(estimator=gbm, param_grid=params,\n",
    "                      scoring=\"neg_mean_squared_error\", cv=5, n_jobs=-1).fit(X_train, y_train)"
   ],
   "metadata": {
    "collapsed": false,
    "pycharm": {
     "name": "#%%\n"
    }
   }
  },
  {
   "cell_type": "code",
   "execution_count": 47,
   "outputs": [
    {
     "name": "stdout",
     "output_type": "stream",
     "text": [
      "Los mejores hiperparametros son: \n",
      "\n",
      "gradientboostingregressor__criterion: mse\n",
      "gradientboostingregressor__loss: ls\n",
      "gradientboostingregressor__n_estimators: 150\n",
      "La raiz del error cuadratico medio: 62249.75\n"
     ]
    }
   ],
   "source": [
    "print(f'Los mejores hiperparametros son: \\n')\n",
    "for key, value in gbm_cv.best_params_.items():\n",
    "    print(f'{key}: {value}')\n",
    "print(f'La raiz del error cuadratico medio: {np.round(np.sqrt(-gbm_cv.best_score_), 2)}')"
   ],
   "metadata": {
    "collapsed": false,
    "pycharm": {
     "name": "#%%\n"
    }
   }
  },
  {
   "cell_type": "code",
   "execution_count": 48,
   "outputs": [
    {
     "name": "stdout",
     "output_type": "stream",
     "text": [
      "El RMSE en datos no observados es: 64305.67674989066\n"
     ]
    }
   ],
   "source": [
    "best_model = gbm_cv.best_estimator_\n",
    "\n",
    "print(f\"El RMSE en datos no observados es: {np.sqrt(mean_squared_error(y_test, best_model.predict(X_test)))}\")"
   ],
   "metadata": {
    "collapsed": false,
    "pycharm": {
     "name": "#%%\n"
    }
   }
  },
  {
   "cell_type": "code",
   "execution_count": 49,
   "outputs": [
    {
     "data": {
      "text/plain": "['../models/gboosting']"
     },
     "execution_count": 49,
     "metadata": {},
     "output_type": "execute_result"
    }
   ],
   "source": [
    "import joblib\n",
    "\n",
    "joblib.dump(value=best_model, filename=\"../models/gboosting\")"
   ],
   "metadata": {
    "collapsed": false,
    "pycharm": {
     "name": "#%%\n"
    }
   }
  },
  {
   "cell_type": "code",
   "execution_count": 50,
   "outputs": [],
   "source": [
    "best_model = None"
   ],
   "metadata": {
    "collapsed": false,
    "pycharm": {
     "name": "#%%\n"
    }
   }
  },
  {
   "cell_type": "markdown",
   "source": [
    "## Hacer predicciones sobre datos nuevos"
   ],
   "metadata": {
    "collapsed": false,
    "pycharm": {
     "name": "#%% md\n"
    }
   }
  },
  {
   "cell_type": "code",
   "execution_count": 57,
   "outputs": [
    {
     "data": {
      "text/plain": "   longitude  latitude  housing_median_age  total_rooms  total_bedrooms  \\\n0    -119.65     36.51               30.00      1671.00          319.00   \n1    -117.01     33.97               18.00      4775.00          886.00   \n2    -118.37     34.15               29.00      2630.00          617.00   \n3    -117.11     33.12               46.00        52.00           13.00   \n4    -119.06     35.36                9.00      1228.00          234.00   \n\n   population  households  median_income ocean_proximity  \n0      966.00      282.00           3.13          INLAND  \n1     1868.00      836.00           2.34          INLAND  \n2     1071.00      573.00           3.37       <1H OCEAN  \n3       59.00       13.00           3.88       <1H OCEAN  \n4      409.00      212.00           4.35          INLAND  ",
      "text/html": "<div>\n<style scoped>\n    .dataframe tbody tr th:only-of-type {\n        vertical-align: middle;\n    }\n\n    .dataframe tbody tr th {\n        vertical-align: top;\n    }\n\n    .dataframe thead th {\n        text-align: right;\n    }\n</style>\n<table border=\"1\" class=\"dataframe\">\n  <thead>\n    <tr style=\"text-align: right;\">\n      <th></th>\n      <th>longitude</th>\n      <th>latitude</th>\n      <th>housing_median_age</th>\n      <th>total_rooms</th>\n      <th>total_bedrooms</th>\n      <th>population</th>\n      <th>households</th>\n      <th>median_income</th>\n      <th>ocean_proximity</th>\n    </tr>\n  </thead>\n  <tbody>\n    <tr>\n      <th>0</th>\n      <td>-119.65</td>\n      <td>36.51</td>\n      <td>30.00</td>\n      <td>1671.00</td>\n      <td>319.00</td>\n      <td>966.00</td>\n      <td>282.00</td>\n      <td>3.13</td>\n      <td>INLAND</td>\n    </tr>\n    <tr>\n      <th>1</th>\n      <td>-117.01</td>\n      <td>33.97</td>\n      <td>18.00</td>\n      <td>4775.00</td>\n      <td>886.00</td>\n      <td>1868.00</td>\n      <td>836.00</td>\n      <td>2.34</td>\n      <td>INLAND</td>\n    </tr>\n    <tr>\n      <th>2</th>\n      <td>-118.37</td>\n      <td>34.15</td>\n      <td>29.00</td>\n      <td>2630.00</td>\n      <td>617.00</td>\n      <td>1071.00</td>\n      <td>573.00</td>\n      <td>3.37</td>\n      <td>&lt;1H OCEAN</td>\n    </tr>\n    <tr>\n      <th>3</th>\n      <td>-117.11</td>\n      <td>33.12</td>\n      <td>46.00</td>\n      <td>52.00</td>\n      <td>13.00</td>\n      <td>59.00</td>\n      <td>13.00</td>\n      <td>3.88</td>\n      <td>&lt;1H OCEAN</td>\n    </tr>\n    <tr>\n      <th>4</th>\n      <td>-119.06</td>\n      <td>35.36</td>\n      <td>9.00</td>\n      <td>1228.00</td>\n      <td>234.00</td>\n      <td>409.00</td>\n      <td>212.00</td>\n      <td>4.35</td>\n      <td>INLAND</td>\n    </tr>\n  </tbody>\n</table>\n</div>"
     },
     "execution_count": 57,
     "metadata": {},
     "output_type": "execute_result"
    }
   ],
   "source": [
    "new_data = pd.read_csv(\"../data/housing_new.csv\")\n",
    "# new_data.drop([\"latitude\", \"longitude\"], axis=1, inplace=True)\n",
    "\n",
    "new_data.head()"
   ],
   "metadata": {
    "collapsed": false,
    "pycharm": {
     "name": "#%%\n"
    }
   }
  },
  {
   "cell_type": "code",
   "execution_count": 58,
   "outputs": [],
   "source": [
    "gbm = joblib.load(filename=\"../models/gboosting\")"
   ],
   "metadata": {
    "collapsed": false,
    "pycharm": {
     "name": "#%%\n"
    }
   }
  },
  {
   "cell_type": "code",
   "execution_count": 59,
   "outputs": [
    {
     "data": {
      "text/plain": "      longitude  latitude  housing_median_age  total_rooms  total_bedrooms  \\\n0       -119.65     36.51               30.00      1671.00          319.00   \n1       -117.01     33.97               18.00      4775.00          886.00   \n2       -118.37     34.15               29.00      2630.00          617.00   \n3       -117.11     33.12               46.00        52.00           13.00   \n4       -119.06     35.36                9.00      1228.00          234.00   \n...         ...       ...                 ...          ...             ...   \n3091    -121.60     36.81               18.00      1575.00          230.00   \n3092    -122.43     37.75               52.00      2960.00          623.00   \n3093    -117.27     33.77               16.00      2876.00          576.00   \n3094    -118.27     33.97               39.00      2569.00          688.00   \n3095    -122.24     37.47               36.00      2021.00          433.00   \n\n      population  households  median_income ocean_proximity  \\\n0         966.00      282.00           3.13          INLAND   \n1        1868.00      836.00           2.34          INLAND   \n2        1071.00      573.00           3.37       <1H OCEAN   \n3          59.00       13.00           3.88       <1H OCEAN   \n4         409.00      212.00           4.35          INLAND   \n...          ...         ...            ...             ...   \n3091      751.00      219.00           5.22       <1H OCEAN   \n3092     1191.00      589.00           3.95        NEAR BAY   \n3093     1859.00      545.00           2.09       <1H OCEAN   \n3094     2601.00      630.00           2.08       <1H OCEAN   \n3095     1117.00      432.00           3.93      NEAR OCEAN   \n\n      housing_median_value_pred  \n0                     102340.88  \n1                     102785.56  \n2                     274065.40  \n3                     230144.82  \n4                     168768.59  \n...                         ...  \n3091                  242421.78  \n3092                  361567.83  \n3093                  123130.06  \n3094                  148502.89  \n3095                  238702.36  \n\n[3096 rows x 10 columns]",
      "text/html": "<div>\n<style scoped>\n    .dataframe tbody tr th:only-of-type {\n        vertical-align: middle;\n    }\n\n    .dataframe tbody tr th {\n        vertical-align: top;\n    }\n\n    .dataframe thead th {\n        text-align: right;\n    }\n</style>\n<table border=\"1\" class=\"dataframe\">\n  <thead>\n    <tr style=\"text-align: right;\">\n      <th></th>\n      <th>longitude</th>\n      <th>latitude</th>\n      <th>housing_median_age</th>\n      <th>total_rooms</th>\n      <th>total_bedrooms</th>\n      <th>population</th>\n      <th>households</th>\n      <th>median_income</th>\n      <th>ocean_proximity</th>\n      <th>housing_median_value_pred</th>\n    </tr>\n  </thead>\n  <tbody>\n    <tr>\n      <th>0</th>\n      <td>-119.65</td>\n      <td>36.51</td>\n      <td>30.00</td>\n      <td>1671.00</td>\n      <td>319.00</td>\n      <td>966.00</td>\n      <td>282.00</td>\n      <td>3.13</td>\n      <td>INLAND</td>\n      <td>102340.88</td>\n    </tr>\n    <tr>\n      <th>1</th>\n      <td>-117.01</td>\n      <td>33.97</td>\n      <td>18.00</td>\n      <td>4775.00</td>\n      <td>886.00</td>\n      <td>1868.00</td>\n      <td>836.00</td>\n      <td>2.34</td>\n      <td>INLAND</td>\n      <td>102785.56</td>\n    </tr>\n    <tr>\n      <th>2</th>\n      <td>-118.37</td>\n      <td>34.15</td>\n      <td>29.00</td>\n      <td>2630.00</td>\n      <td>617.00</td>\n      <td>1071.00</td>\n      <td>573.00</td>\n      <td>3.37</td>\n      <td>&lt;1H OCEAN</td>\n      <td>274065.40</td>\n    </tr>\n    <tr>\n      <th>3</th>\n      <td>-117.11</td>\n      <td>33.12</td>\n      <td>46.00</td>\n      <td>52.00</td>\n      <td>13.00</td>\n      <td>59.00</td>\n      <td>13.00</td>\n      <td>3.88</td>\n      <td>&lt;1H OCEAN</td>\n      <td>230144.82</td>\n    </tr>\n    <tr>\n      <th>4</th>\n      <td>-119.06</td>\n      <td>35.36</td>\n      <td>9.00</td>\n      <td>1228.00</td>\n      <td>234.00</td>\n      <td>409.00</td>\n      <td>212.00</td>\n      <td>4.35</td>\n      <td>INLAND</td>\n      <td>168768.59</td>\n    </tr>\n    <tr>\n      <th>...</th>\n      <td>...</td>\n      <td>...</td>\n      <td>...</td>\n      <td>...</td>\n      <td>...</td>\n      <td>...</td>\n      <td>...</td>\n      <td>...</td>\n      <td>...</td>\n      <td>...</td>\n    </tr>\n    <tr>\n      <th>3091</th>\n      <td>-121.60</td>\n      <td>36.81</td>\n      <td>18.00</td>\n      <td>1575.00</td>\n      <td>230.00</td>\n      <td>751.00</td>\n      <td>219.00</td>\n      <td>5.22</td>\n      <td>&lt;1H OCEAN</td>\n      <td>242421.78</td>\n    </tr>\n    <tr>\n      <th>3092</th>\n      <td>-122.43</td>\n      <td>37.75</td>\n      <td>52.00</td>\n      <td>2960.00</td>\n      <td>623.00</td>\n      <td>1191.00</td>\n      <td>589.00</td>\n      <td>3.95</td>\n      <td>NEAR BAY</td>\n      <td>361567.83</td>\n    </tr>\n    <tr>\n      <th>3093</th>\n      <td>-117.27</td>\n      <td>33.77</td>\n      <td>16.00</td>\n      <td>2876.00</td>\n      <td>576.00</td>\n      <td>1859.00</td>\n      <td>545.00</td>\n      <td>2.09</td>\n      <td>&lt;1H OCEAN</td>\n      <td>123130.06</td>\n    </tr>\n    <tr>\n      <th>3094</th>\n      <td>-118.27</td>\n      <td>33.97</td>\n      <td>39.00</td>\n      <td>2569.00</td>\n      <td>688.00</td>\n      <td>2601.00</td>\n      <td>630.00</td>\n      <td>2.08</td>\n      <td>&lt;1H OCEAN</td>\n      <td>148502.89</td>\n    </tr>\n    <tr>\n      <th>3095</th>\n      <td>-122.24</td>\n      <td>37.47</td>\n      <td>36.00</td>\n      <td>2021.00</td>\n      <td>433.00</td>\n      <td>1117.00</td>\n      <td>432.00</td>\n      <td>3.93</td>\n      <td>NEAR OCEAN</td>\n      <td>238702.36</td>\n    </tr>\n  </tbody>\n</table>\n<p>3096 rows × 10 columns</p>\n</div>"
     },
     "execution_count": 59,
     "metadata": {},
     "output_type": "execute_result"
    }
   ],
   "source": [
    "new_data[\"housing_median_value_pred\"] = gbm.predict(new_data)\n",
    "\n",
    "new_data"
   ],
   "metadata": {
    "collapsed": false,
    "pycharm": {
     "name": "#%%\n"
    }
   }
  },
  {
   "cell_type": "code",
   "execution_count": null,
   "outputs": [],
   "source": [],
   "metadata": {
    "collapsed": false,
    "pycharm": {
     "name": "#%%\n"
    }
   }
  }
 ],
 "metadata": {
  "kernelspec": {
   "display_name": "Python 3",
   "language": "python",
   "name": "python3"
  },
  "language_info": {
   "codemirror_mode": {
    "name": "ipython",
    "version": 2
   },
   "file_extension": ".py",
   "mimetype": "text/x-python",
   "name": "python",
   "nbconvert_exporter": "python",
   "pygments_lexer": "ipython2",
   "version": "2.7.6"
  }
 },
 "nbformat": 4,
 "nbformat_minor": 0
}